{
 "cells": [
  {
   "cell_type": "code",
   "execution_count": 20,
   "metadata": {},
   "outputs": [
    {
     "data": {
      "text/html": [
       "<div>\n",
       "<style scoped>\n",
       "    .dataframe tbody tr th:only-of-type {\n",
       "        vertical-align: middle;\n",
       "    }\n",
       "\n",
       "    .dataframe tbody tr th {\n",
       "        vertical-align: top;\n",
       "    }\n",
       "\n",
       "    .dataframe thead th {\n",
       "        text-align: right;\n",
       "    }\n",
       "</style>\n",
       "<table border=\"1\" class=\"dataframe\">\n",
       "  <thead>\n",
       "    <tr style=\"text-align: right;\">\n",
       "      <th></th>\n",
       "      <th>ap_position</th>\n",
       "      <th>can1errors</th>\n",
       "      <th>can2errors</th>\n",
       "      <th>can3errors</th>\n",
       "      <th>can4errors</th>\n",
       "      <th>can5errors</th>\n",
       "      <th>can6errors</th>\n",
       "      <th>can7errors</th>\n",
       "      <th>can8errors</th>\n",
       "      <th>can9errors</th>\n",
       "      <th>...</th>\n",
       "      <th>v_statemultites_base</th>\n",
       "      <th>vehicle_speed2_kmh</th>\n",
       "      <th>ggps_numsatactive</th>\n",
       "      <th>ggps_numsatview</th>\n",
       "      <th>hostcam_info</th>\n",
       "      <th>basis30</th>\n",
       "      <th>basis32</th>\n",
       "      <th>basis49</th>\n",
       "      <th>basis50</th>\n",
       "      <th>Breakdown</th>\n",
       "    </tr>\n",
       "  </thead>\n",
       "  <tbody>\n",
       "    <tr>\n",
       "      <th>0</th>\n",
       "      <td>0.0</td>\n",
       "      <td>0</td>\n",
       "      <td>0</td>\n",
       "      <td>1583</td>\n",
       "      <td>0</td>\n",
       "      <td>0</td>\n",
       "      <td>0</td>\n",
       "      <td>0</td>\n",
       "      <td>0</td>\n",
       "      <td>606</td>\n",
       "      <td>...</td>\n",
       "      <td>204</td>\n",
       "      <td>0.00000</td>\n",
       "      <td>8</td>\n",
       "      <td>12</td>\n",
       "      <td>0</td>\n",
       "      <td>0</td>\n",
       "      <td>0</td>\n",
       "      <td>0</td>\n",
       "      <td>0</td>\n",
       "      <td>0</td>\n",
       "    </tr>\n",
       "    <tr>\n",
       "      <th>1</th>\n",
       "      <td>0.0</td>\n",
       "      <td>0</td>\n",
       "      <td>0</td>\n",
       "      <td>806</td>\n",
       "      <td>0</td>\n",
       "      <td>0</td>\n",
       "      <td>0</td>\n",
       "      <td>0</td>\n",
       "      <td>0</td>\n",
       "      <td>12</td>\n",
       "      <td>...</td>\n",
       "      <td>187</td>\n",
       "      <td>0.00000</td>\n",
       "      <td>8</td>\n",
       "      <td>11</td>\n",
       "      <td>0</td>\n",
       "      <td>0</td>\n",
       "      <td>0</td>\n",
       "      <td>0</td>\n",
       "      <td>0</td>\n",
       "      <td>0</td>\n",
       "    </tr>\n",
       "    <tr>\n",
       "      <th>2</th>\n",
       "      <td>0.0</td>\n",
       "      <td>0</td>\n",
       "      <td>0</td>\n",
       "      <td>791</td>\n",
       "      <td>0</td>\n",
       "      <td>0</td>\n",
       "      <td>0</td>\n",
       "      <td>0</td>\n",
       "      <td>0</td>\n",
       "      <td>606</td>\n",
       "      <td>...</td>\n",
       "      <td>204</td>\n",
       "      <td>0.00000</td>\n",
       "      <td>9</td>\n",
       "      <td>12</td>\n",
       "      <td>0</td>\n",
       "      <td>0</td>\n",
       "      <td>0</td>\n",
       "      <td>0</td>\n",
       "      <td>0</td>\n",
       "      <td>0</td>\n",
       "    </tr>\n",
       "    <tr>\n",
       "      <th>3</th>\n",
       "      <td>7.2</td>\n",
       "      <td>36</td>\n",
       "      <td>0</td>\n",
       "      <td>0</td>\n",
       "      <td>0</td>\n",
       "      <td>0</td>\n",
       "      <td>0</td>\n",
       "      <td>0</td>\n",
       "      <td>0</td>\n",
       "      <td>0</td>\n",
       "      <td>...</td>\n",
       "      <td>136</td>\n",
       "      <td>19.17464</td>\n",
       "      <td>9</td>\n",
       "      <td>11</td>\n",
       "      <td>0</td>\n",
       "      <td>0</td>\n",
       "      <td>0</td>\n",
       "      <td>0</td>\n",
       "      <td>0</td>\n",
       "      <td>0</td>\n",
       "    </tr>\n",
       "    <tr>\n",
       "      <th>4</th>\n",
       "      <td>0.0</td>\n",
       "      <td>7</td>\n",
       "      <td>0</td>\n",
       "      <td>0</td>\n",
       "      <td>0</td>\n",
       "      <td>0</td>\n",
       "      <td>0</td>\n",
       "      <td>0</td>\n",
       "      <td>0</td>\n",
       "      <td>0</td>\n",
       "      <td>...</td>\n",
       "      <td>187</td>\n",
       "      <td>80.04943</td>\n",
       "      <td>4</td>\n",
       "      <td>12</td>\n",
       "      <td>0</td>\n",
       "      <td>0</td>\n",
       "      <td>0</td>\n",
       "      <td>0</td>\n",
       "      <td>0</td>\n",
       "      <td>0</td>\n",
       "    </tr>\n",
       "  </tbody>\n",
       "</table>\n",
       "<p>5 rows × 186 columns</p>\n",
       "</div>"
      ],
      "text/plain": [
       "   ap_position  can1errors  can2errors  can3errors  can4errors  can5errors  \\\n",
       "0          0.0           0           0        1583           0           0   \n",
       "1          0.0           0           0         806           0           0   \n",
       "2          0.0           0           0         791           0           0   \n",
       "3          7.2          36           0           0           0           0   \n",
       "4          0.0           7           0           0           0           0   \n",
       "\n",
       "   can6errors  can7errors  can8errors  can9errors  ...  v_statemultites_base  \\\n",
       "0           0           0           0         606  ...                   204   \n",
       "1           0           0           0          12  ...                   187   \n",
       "2           0           0           0         606  ...                   204   \n",
       "3           0           0           0           0  ...                   136   \n",
       "4           0           0           0           0  ...                   187   \n",
       "\n",
       "   vehicle_speed2_kmh  ggps_numsatactive  ggps_numsatview  hostcam_info  \\\n",
       "0             0.00000                  8               12             0   \n",
       "1             0.00000                  8               11             0   \n",
       "2             0.00000                  9               12             0   \n",
       "3            19.17464                  9               11             0   \n",
       "4            80.04943                  4               12             0   \n",
       "\n",
       "   basis30  basis32  basis49  basis50  Breakdown  \n",
       "0        0        0        0        0          0  \n",
       "1        0        0        0        0          0  \n",
       "2        0        0        0        0          0  \n",
       "3        0        0        0        0          0  \n",
       "4        0        0        0        0          0  \n",
       "\n",
       "[5 rows x 186 columns]"
      ]
     },
     "execution_count": 20,
     "metadata": {},
     "output_type": "execute_result"
    }
   ],
   "source": [
    "import numpy as np\n",
    "import matplotlib.pyplot as plt\n",
    "\n",
    "import pandas as pd \n",
    "# Read data from file 'filename.csv' \n",
    "# (in the same directory that your python process is based)\n",
    "# Control delimiters, rows, column names with read_csv (see later) \n",
    "df = pd.read_csv(\"heyman1000.csv\") \n",
    "# Preview the first 5 lines of the loaded data \n",
    "df.head()"
   ]
  },
  {
   "cell_type": "code",
   "execution_count": 21,
   "metadata": {},
   "outputs": [
    {
     "name": "stdout",
     "output_type": "stream",
     "text": [
      "(700, 184)\n",
      "(300, 184)\n"
     ]
    }
   ],
   "source": [
    "\n",
    "from sklearn.model_selection import train_test_split\n",
    "\n",
    "\n",
    "df_p = df.to_numpy()\n",
    "X= df_p[:,0:184]\n",
    "y= df_p[:,185]\n",
    "X_train, X_test, y_train, y_test = train_test_split(X, y, test_size=0.3, random_state=42)\n",
    "print(X_train.shape)\n",
    "print(X_test.shape)"
   ]
  },
  {
   "cell_type": "code",
   "execution_count": 22,
   "metadata": {},
   "outputs": [
    {
     "name": "stdout",
     "output_type": "stream",
     "text": [
      "0.99\n"
     ]
    },
    {
     "name": "stderr",
     "output_type": "stream",
     "text": [
      "/anaconda3/lib/python3.6/site-packages/sklearn/linear_model/logistic.py:432: FutureWarning: Default solver will be changed to 'lbfgs' in 0.22. Specify a solver to silence this warning.\n",
      "  FutureWarning)\n"
     ]
    }
   ],
   "source": [
    "from sklearn.datasets import load_iris\n",
    "from sklearn.linear_model import LogisticRegression\n",
    "clf = LogisticRegression(random_state=0).fit(X_train, y_train)\n",
    "clf.predict(X_test)\n",
    "clf.predict_proba(X_test)\n",
    "score = clf.score(X_test, y_test)\n",
    "print(score)"
   ]
  },
  {
   "cell_type": "code",
   "execution_count": 23,
   "metadata": {},
   "outputs": [
    {
     "name": "stderr",
     "output_type": "stream",
     "text": [
      "/anaconda3/lib/python3.6/site-packages/sklearn/externals/joblib/__init__.py:15: DeprecationWarning: sklearn.externals.joblib is deprecated in 0.21 and will be removed in 0.23. Please import this functionality directly from joblib, which can be installed with: pip install joblib. If this warning is raised when loading pickled models, you may need to re-serialize those models with scikit-learn 0.21+.\n",
      "  warnings.warn(msg, category=DeprecationWarning)\n"
     ]
    },
    {
     "data": {
      "text/plain": [
       "['Heyman.joblib']"
      ]
     },
     "execution_count": 23,
     "metadata": {},
     "output_type": "execute_result"
    }
   ],
   "source": [
    "from sklearn.externals import joblib\n",
    "joblib.dump(clf,\"Heyman.joblib\")"
   ]
  },
  {
   "cell_type": "code",
   "execution_count": 25,
   "metadata": {},
   "outputs": [
    {
     "name": "stdout",
     "output_type": "stream",
     "text": [
      "[0. 0. 0. 0. 0. 0. 0. 0. 0. 0. 0. 0. 0. 0. 1. 0. 0. 0. 1. 1. 0. 0. 0. 0.\n",
      " 1. 0. 0. 0. 0. 0. 0. 1. 0. 0. 0. 0. 0. 1. 0. 0. 0. 0. 0. 0. 0. 0. 0. 0.\n",
      " 0. 0. 1. 0. 0. 1. 0. 0. 0. 0. 1. 0. 0. 0. 1. 0. 0. 0. 1. 0. 1. 0. 0. 0.\n",
      " 0. 0. 0. 0. 0. 0. 0. 0. 0. 0. 0. 0. 0. 0. 0. 0. 0. 1. 0. 0. 1. 0. 0. 0.\n",
      " 0. 0. 0. 0. 0. 1. 0. 0. 0. 0. 0. 0. 0. 1. 1. 0. 0. 0. 0. 0. 1. 0. 0. 0.\n",
      " 0. 0. 0. 0. 0. 1. 0. 0. 0. 0. 0. 1. 0. 0. 0. 0. 0. 0. 0. 0. 0. 0. 0. 0.\n",
      " 0. 0. 0. 0. 1. 0. 0. 0. 0. 0. 0. 0. 0. 0. 0. 0. 0. 0. 0. 1. 0. 0. 0. 0.\n",
      " 0. 0. 0. 0. 1. 0. 0. 0. 0. 1. 0. 0. 0. 0. 0. 0. 0. 1. 0. 0. 0. 0. 0. 0.\n",
      " 0. 0. 0. 0. 0. 0. 0. 0. 0. 0. 0. 1. 0. 0. 1. 0. 0. 0. 0. 0. 0. 1. 0. 0.\n",
      " 0. 0. 1. 0. 0. 0. 0. 1. 0. 0. 0. 0. 0. 0. 0. 0. 0. 0. 0. 0. 0. 0. 0. 0.\n",
      " 0. 0. 0. 0. 0. 0. 0. 0. 0. 0. 0. 1. 0. 0. 0. 0. 0. 1. 0. 0. 0. 0. 0. 0.\n",
      " 0. 0. 0. 0. 0. 0. 0. 0. 0. 0. 0. 0. 0. 0. 0. 0. 0. 0. 0. 0. 0. 0. 0. 0.\n",
      " 0. 0. 0. 0. 0. 0. 0. 0. 0. 0. 0. 0.]\n"
     ]
    }
   ],
   "source": [
    "load = joblib.load(\"Heyman.joblib\")\n",
    "print(load.predict(X_test))"
   ]
  },
  {
   "cell_type": "code",
   "execution_count": 41,
   "metadata": {},
   "outputs": [
    {
     "name": "stdout",
     "output_type": "stream",
     "text": [
      "[[ 0.000000e+00  0.000000e+00  0.000000e+00  0.000000e+00  0.000000e+00\n",
      "   0.000000e+00  0.000000e+00  0.000000e+00  0.000000e+00  0.000000e+00\n",
      "   0.000000e+00  0.000000e+00  0.000000e+00  0.000000e+00  0.000000e+00\n",
      "   0.000000e+00  0.000000e+00  0.000000e+00  0.000000e+00  0.000000e+00\n",
      "   0.000000e+00  0.000000e+00  0.000000e+00  0.000000e+00  0.000000e+00\n",
      "   0.000000e+00  2.200000e+01  0.000000e+00  0.000000e+00  0.000000e+00\n",
      "   0.000000e+00  0.000000e+00  1.600000e+01  1.900000e+01  5.200000e+01\n",
      "   2.100000e+01  3.700000e+01  3.000000e+01  0.000000e+00  3.700000e+01\n",
      "   1.290000e+02  0.000000e+00  3.000000e+00  0.000000e+00  8.128000e+03\n",
      "   1.290000e+02  2.253125e+01  9.925000e+01  2.200000e+04  0.000000e+00\n",
      "   0.000000e+00  3.132100e+04  3.346875e+01  0.000000e+00  0.000000e+00\n",
      "  -5.000000e+01  0.000000e+00  3.300000e+01  0.000000e+00  0.000000e+00\n",
      "   0.000000e+00  0.000000e+00  0.000000e+00  0.000000e+00  0.000000e+00\n",
      "   1.000000e+00 -2.500000e-01  2.800000e+02  0.000000e+00 -7.500000e-01\n",
      "   0.000000e+00  0.000000e+00  0.000000e+00  0.000000e+00  0.000000e+00\n",
      "   3.700000e+01  2.729200e+01  5.200000e+01  0.000000e+00  0.000000e+00\n",
      "   0.000000e+00  0.000000e+00  0.000000e+00  1.000000e+00  0.000000e+00\n",
      "   3.306000e+03  6.862000e+03  6.587500e+02  0.000000e+00  4.390000e+01\n",
      "   0.000000e+00  2.250000e+01  7.058000e+03  6.587500e+02  0.000000e+00\n",
      "   4.437000e+01  0.000000e+00  2.240000e+01  6.886000e+03  6.590000e+02\n",
      "   0.000000e+00  4.412000e+01  0.000000e+00  2.250000e+01  6.914000e+03\n",
      "   6.590000e+02  0.000000e+00  4.414000e+01  0.000000e+00  2.230000e+01\n",
      "   7.026000e+03  6.587500e+02  0.000000e+00  4.444000e+01  0.000000e+00\n",
      "   2.250000e+01  7.226000e+03  6.590000e+02  0.000000e+00  4.472000e+01\n",
      "   0.000000e+00  2.240000e+01  6.892000e+03  6.587500e+02  0.000000e+00\n",
      "   4.383000e+01  0.000000e+00  2.290000e+01  6.934000e+03  6.587500e+02\n",
      "   0.000000e+00  4.403000e+01  0.000000e+00  2.240000e+01  6.892000e+03\n",
      "   6.587500e+02  0.000000e+00  4.393000e+01  0.000000e+00  2.240000e+01\n",
      "   7.230000e+03  6.590000e+02  0.000000e+00  4.448000e+01  0.000000e+00\n",
      "   2.250000e+01  7.294000e+03  6.587500e+02  0.000000e+00  4.476000e+01\n",
      "   0.000000e+00  2.250000e+01  6.890000e+03  6.587500e+02  0.000000e+00\n",
      "   4.389000e+01  0.000000e+00  2.310000e+01  0.000000e+00  0.000000e+00\n",
      "   0.000000e+00  2.550000e+02  1.400000e+04  1.290000e+02  0.000000e+00\n",
      "   1.290000e+02  0.000000e+00  0.000000e+00  0.000000e+00  0.000000e+00\n",
      "   0.000000e+00  0.000000e+00  2.250000e+01  1.000000e+00  1.200000e-01\n",
      "   6.583000e+02  1.200000e+01  0.000000e+00  9.000000e+00  1.200000e+01\n",
      "   0.000000e+00  0.000000e+00  0.000000e+00  0.000000e+00]]\n"
     ]
    }
   ],
   "source": [
    "warn = X_test[14,:]\n",
    "warn = np.reshape(warn,(1,184))\n",
    "load.predict(warn)\n",
    "print(warn)"
   ]
  },
  {
   "cell_type": "code",
   "execution_count": 40,
   "metadata": {},
   "outputs": [
    {
     "data": {
      "text/plain": [
       "array([0.])"
      ]
     },
     "execution_count": 40,
     "metadata": {},
     "output_type": "execute_result"
    }
   ],
   "source": [
    "safe = X_test[15,:]\n",
    "safe = np.reshape(safe,(1,184))\n",
    "load.predict(safe)"
   ]
  },
  {
   "cell_type": "code",
   "execution_count": 42,
   "metadata": {},
   "outputs": [],
   "source": [
    "np.save(\"safe\", safe)\n",
    "np.save(\"warn\", warn)"
   ]
  }
 ],
 "metadata": {
  "kernelspec": {
   "display_name": "Python 3",
   "language": "python",
   "name": "python3"
  },
  "language_info": {
   "codemirror_mode": {
    "name": "ipython",
    "version": 3
   },
   "file_extension": ".py",
   "mimetype": "text/x-python",
   "name": "python",
   "nbconvert_exporter": "python",
   "pygments_lexer": "ipython3",
   "version": "3.6.8"
  }
 },
 "nbformat": 4,
 "nbformat_minor": 2
}
